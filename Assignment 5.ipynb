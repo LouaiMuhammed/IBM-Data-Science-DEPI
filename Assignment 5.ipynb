{
 "cells": [
  {
   "cell_type": "markdown",
   "metadata": {},
   "source": [
    "# Assignment"
   ]
  },
  {
   "cell_type": "markdown",
   "metadata": {},
   "source": [
    "Create an abstract class called **Shape** with an abstract method *area()*. \n",
    "\n",
    "Then, create two subclasses, **Circle** and **Rectangle**, that inherit from **Shape**. \n",
    "\n",
    "The **Circle** class should have a *radius* attribute, <br> and the **Rectangle** class should have *width and height* attributes.\n",
    "\n",
    "Implement the *area()* method in both subclasses to calculate the area of the shape. \n",
    "\n",
    "Write a program that creates instances of **Circle** and **Rectangle** and prints out their areas.\n"
   ]
  },
  {
   "cell_type": "markdown",
   "metadata": {},
   "source": [
    "### Creating the base class"
   ]
  },
  {
   "cell_type": "code",
   "execution_count": 1,
   "metadata": {},
   "outputs": [],
   "source": [
    "from abc import ABC, abstractmethod\n",
    "\n",
    "class Shape:\n",
    "    @abstractmethod\n",
    "    def area(self):\n",
    "        pass\n",
    "        "
   ]
  },
  {
   "cell_type": "markdown",
   "metadata": {},
   "source": [
    "### Creating the sub-classes:"
   ]
  },
  {
   "cell_type": "code",
   "execution_count": 2,
   "metadata": {},
   "outputs": [],
   "source": [
    "class Circle(Shape):\n",
    "    def __init__(self,radius):\n",
    "        \"\"\"\n",
    "        User enters the value of circle's radius when an instance is created,\n",
    "        if the value is negative an exception is raised. \n",
    "        \"\"\"\n",
    "\n",
    "        self.radius = radius\n",
    "        if self.radius < 0:\n",
    "            raise ValueError(\"Radius must be positive.\")\n",
    "        \n",
    "        \n",
    "    def area(self):\n",
    "        return f'The area of the circle equals', 3.14 * (self.radius**2)"
   ]
  },
  {
   "cell_type": "code",
   "execution_count": 3,
   "metadata": {},
   "outputs": [],
   "source": [
    "class Rectangle(Shape):\n",
    "    def __init__(self, height, width):\n",
    "\n",
    "        \"\"\"\n",
    "        User enters the values of rectangle's dimensions when an instance is created,\n",
    "        if one of these values are negative an exception is raised. \n",
    "        \"\"\"\n",
    "        self.height = height\n",
    "        self.width = width\n",
    "\n",
    "\n",
    "        if self.height < 0 or self.width < 0:\n",
    "            raise ValueError(\"Dimensions must be positive numbers.\")\n",
    "    \n",
    "    def area(self):\n",
    "        return f'The area of the rectangle equals', self.height * self.width\n",
    "        "
   ]
  },
  {
   "cell_type": "markdown",
   "metadata": {},
   "source": [
    "## Docstrings of using the methods:"
   ]
  },
  {
   "cell_type": "code",
   "execution_count": 4,
   "metadata": {},
   "outputs": [
    {
     "name": "stdout",
     "output_type": "stream",
     "text": [
      "\u001b[1;31mInit signature:\u001b[0m \u001b[0mRectangle\u001b[0m\u001b[1;33m(\u001b[0m\u001b[0mheight\u001b[0m\u001b[1;33m,\u001b[0m \u001b[0mwidth\u001b[0m\u001b[1;33m)\u001b[0m\u001b[1;33m\u001b[0m\u001b[1;33m\u001b[0m\u001b[0m\n",
      "\u001b[1;31mDocstring:\u001b[0m      <no docstring>\n",
      "\u001b[1;31mInit docstring:\u001b[0m\n",
      "User enters the values of rectangle's dimensions when an instance is created,\n",
      "if one of these values are negative an exception is raised. \n",
      "\u001b[1;31mType:\u001b[0m           type\n",
      "\u001b[1;31mSubclasses:\u001b[0m     "
     ]
    }
   ],
   "source": [
    "Rectangle?"
   ]
  },
  {
   "cell_type": "code",
   "execution_count": 5,
   "metadata": {},
   "outputs": [
    {
     "name": "stdout",
     "output_type": "stream",
     "text": [
      "\u001b[1;31mInit signature:\u001b[0m \u001b[0mCircle\u001b[0m\u001b[1;33m(\u001b[0m\u001b[0mradius\u001b[0m\u001b[1;33m)\u001b[0m\u001b[1;33m\u001b[0m\u001b[1;33m\u001b[0m\u001b[0m\n",
      "\u001b[1;31mDocstring:\u001b[0m      <no docstring>\n",
      "\u001b[1;31mInit docstring:\u001b[0m\n",
      "User enters the value of circle's radius when an instance is created,\n",
      "if the value is negative an exception is raised. \n",
      "\u001b[1;31mType:\u001b[0m           type\n",
      "\u001b[1;31mSubclasses:\u001b[0m     "
     ]
    }
   ],
   "source": [
    "Circle?"
   ]
  },
  {
   "cell_type": "markdown",
   "metadata": {},
   "source": [
    "## Implementing **area()** method"
   ]
  },
  {
   "cell_type": "code",
   "execution_count": 6,
   "metadata": {},
   "outputs": [
    {
     "data": {
      "text/plain": [
       "('The area of the circle equals', 78.5)"
      ]
     },
     "execution_count": 6,
     "metadata": {},
     "output_type": "execute_result"
    }
   ],
   "source": [
    "c1 = Circle(5)\n",
    "c1.area()"
   ]
  },
  {
   "cell_type": "code",
   "execution_count": 7,
   "metadata": {},
   "outputs": [
    {
     "data": {
      "text/plain": [
       "('The area of the rectangle equals', 10)"
      ]
     },
     "execution_count": 7,
     "metadata": {},
     "output_type": "execute_result"
    }
   ],
   "source": [
    "r1 = Rectangle(2, 5)\n",
    "r1.area()"
   ]
  }
 ],
 "metadata": {
  "kernelspec": {
   "display_name": "Python 3",
   "language": "python",
   "name": "python3"
  },
  "language_info": {
   "codemirror_mode": {
    "name": "ipython",
    "version": 3
   },
   "file_extension": ".py",
   "mimetype": "text/x-python",
   "name": "python",
   "nbconvert_exporter": "python",
   "pygments_lexer": "ipython3",
   "version": "3.11.9"
  }
 },
 "nbformat": 4,
 "nbformat_minor": 2
}
