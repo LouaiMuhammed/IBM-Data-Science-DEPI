{
 "cells": [
  {
   "cell_type": "markdown",
   "metadata": {},
   "source": [
    "# Imporing Libraries and Modules"
   ]
  },
  {
   "cell_type": "code",
   "execution_count": 269,
   "metadata": {},
   "outputs": [],
   "source": [
    "import pandas as pd\n",
    "import numpy as np\n",
    "import matplotlib.pyplot as plt\n",
    "import seaborn as sns\n",
    "import warnings\n",
    "warnings.filterwarnings(\"ignore\")"
   ]
  },
  {
   "cell_type": "code",
   "execution_count": null,
   "metadata": {},
   "outputs": [],
   "source": [
    "df = pd.read_csv('shopping_trends_updated.csv')"
   ]
  },
  {
   "cell_type": "markdown",
   "metadata": {},
   "source": [
    "# Numeric Analysis Questions:"
   ]
  },
  {
   "cell_type": "code",
   "execution_count": 290,
   "metadata": {},
   "outputs": [
    {
     "data": {
      "text/html": [
       "<div>\n",
       "<style scoped>\n",
       "    .dataframe tbody tr th:only-of-type {\n",
       "        vertical-align: middle;\n",
       "    }\n",
       "\n",
       "    .dataframe tbody tr th {\n",
       "        vertical-align: top;\n",
       "    }\n",
       "\n",
       "    .dataframe thead th {\n",
       "        text-align: right;\n",
       "    }\n",
       "</style>\n",
       "<table border=\"1\" class=\"dataframe\">\n",
       "  <thead>\n",
       "    <tr style=\"text-align: right;\">\n",
       "      <th></th>\n",
       "      <th>Customer ID</th>\n",
       "      <th>Age</th>\n",
       "      <th>Gender</th>\n",
       "      <th>Item Purchased</th>\n",
       "      <th>Category</th>\n",
       "      <th>Purchase Amount (USD)</th>\n",
       "      <th>Location</th>\n",
       "      <th>Size</th>\n",
       "      <th>Color</th>\n",
       "      <th>Season</th>\n",
       "      <th>Review Rating</th>\n",
       "      <th>Subscription Status</th>\n",
       "      <th>Shipping Type</th>\n",
       "      <th>Discount Applied</th>\n",
       "      <th>Promo Code Used</th>\n",
       "      <th>Previous Purchases</th>\n",
       "      <th>Payment Method</th>\n",
       "      <th>Frequency of Purchases</th>\n",
       "    </tr>\n",
       "  </thead>\n",
       "  <tbody>\n",
       "    <tr>\n",
       "      <th>551</th>\n",
       "      <td>552</td>\n",
       "      <td>29</td>\n",
       "      <td>Male</td>\n",
       "      <td>Coat</td>\n",
       "      <td>Outerwear</td>\n",
       "      <td>78</td>\n",
       "      <td>Idaho</td>\n",
       "      <td>XL</td>\n",
       "      <td>Green</td>\n",
       "      <td>Fall</td>\n",
       "      <td>3.1</td>\n",
       "      <td>Yes</td>\n",
       "      <td>2-Day Shipping</td>\n",
       "      <td>Yes</td>\n",
       "      <td>Yes</td>\n",
       "      <td>27</td>\n",
       "      <td>Cash</td>\n",
       "      <td>Bi-Weekly</td>\n",
       "    </tr>\n",
       "    <tr>\n",
       "      <th>2806</th>\n",
       "      <td>2807</td>\n",
       "      <td>45</td>\n",
       "      <td>Female</td>\n",
       "      <td>Blouse</td>\n",
       "      <td>Clothing</td>\n",
       "      <td>39</td>\n",
       "      <td>South Carolina</td>\n",
       "      <td>L</td>\n",
       "      <td>Purple</td>\n",
       "      <td>Spring</td>\n",
       "      <td>2.7</td>\n",
       "      <td>No</td>\n",
       "      <td>Standard</td>\n",
       "      <td>No</td>\n",
       "      <td>No</td>\n",
       "      <td>50</td>\n",
       "      <td>Credit Card</td>\n",
       "      <td>Annually</td>\n",
       "    </tr>\n",
       "    <tr>\n",
       "      <th>2630</th>\n",
       "      <td>2631</td>\n",
       "      <td>29</td>\n",
       "      <td>Male</td>\n",
       "      <td>Skirt</td>\n",
       "      <td>Clothing</td>\n",
       "      <td>82</td>\n",
       "      <td>Maine</td>\n",
       "      <td>S</td>\n",
       "      <td>Pink</td>\n",
       "      <td>Spring</td>\n",
       "      <td>4.2</td>\n",
       "      <td>No</td>\n",
       "      <td>Free Shipping</td>\n",
       "      <td>No</td>\n",
       "      <td>No</td>\n",
       "      <td>20</td>\n",
       "      <td>Cash</td>\n",
       "      <td>Quarterly</td>\n",
       "    </tr>\n",
       "    <tr>\n",
       "      <th>806</th>\n",
       "      <td>807</td>\n",
       "      <td>56</td>\n",
       "      <td>Male</td>\n",
       "      <td>Jeans</td>\n",
       "      <td>Clothing</td>\n",
       "      <td>56</td>\n",
       "      <td>Florida</td>\n",
       "      <td>L</td>\n",
       "      <td>Charcoal</td>\n",
       "      <td>Summer</td>\n",
       "      <td>2.7</td>\n",
       "      <td>Yes</td>\n",
       "      <td>Standard</td>\n",
       "      <td>Yes</td>\n",
       "      <td>Yes</td>\n",
       "      <td>46</td>\n",
       "      <td>PayPal</td>\n",
       "      <td>Quarterly</td>\n",
       "    </tr>\n",
       "    <tr>\n",
       "      <th>3463</th>\n",
       "      <td>3464</td>\n",
       "      <td>27</td>\n",
       "      <td>Female</td>\n",
       "      <td>Jewelry</td>\n",
       "      <td>Accessories</td>\n",
       "      <td>27</td>\n",
       "      <td>Maine</td>\n",
       "      <td>M</td>\n",
       "      <td>Yellow</td>\n",
       "      <td>Fall</td>\n",
       "      <td>2.8</td>\n",
       "      <td>No</td>\n",
       "      <td>2-Day Shipping</td>\n",
       "      <td>No</td>\n",
       "      <td>No</td>\n",
       "      <td>45</td>\n",
       "      <td>PayPal</td>\n",
       "      <td>Fortnightly</td>\n",
       "    </tr>\n",
       "  </tbody>\n",
       "</table>\n",
       "</div>"
      ],
      "text/plain": [
       "      Customer ID  Age  Gender Item Purchased     Category  \\\n",
       "551           552   29    Male           Coat    Outerwear   \n",
       "2806         2807   45  Female         Blouse     Clothing   \n",
       "2630         2631   29    Male          Skirt     Clothing   \n",
       "806           807   56    Male          Jeans     Clothing   \n",
       "3463         3464   27  Female        Jewelry  Accessories   \n",
       "\n",
       "      Purchase Amount (USD)        Location Size     Color  Season  \\\n",
       "551                      78           Idaho   XL     Green    Fall   \n",
       "2806                     39  South Carolina    L    Purple  Spring   \n",
       "2630                     82           Maine    S      Pink  Spring   \n",
       "806                      56         Florida    L  Charcoal  Summer   \n",
       "3463                     27           Maine    M    Yellow    Fall   \n",
       "\n",
       "      Review Rating Subscription Status   Shipping Type Discount Applied  \\\n",
       "551             3.1                 Yes  2-Day Shipping              Yes   \n",
       "2806            2.7                  No        Standard               No   \n",
       "2630            4.2                  No   Free Shipping               No   \n",
       "806             2.7                 Yes        Standard              Yes   \n",
       "3463            2.8                  No  2-Day Shipping               No   \n",
       "\n",
       "     Promo Code Used  Previous Purchases Payment Method Frequency of Purchases  \n",
       "551              Yes                  27           Cash              Bi-Weekly  \n",
       "2806              No                  50    Credit Card               Annually  \n",
       "2630              No                  20           Cash              Quarterly  \n",
       "806              Yes                  46         PayPal              Quarterly  \n",
       "3463              No                  45         PayPal            Fortnightly  "
      ]
     },
     "execution_count": 290,
     "metadata": {},
     "output_type": "execute_result"
    }
   ],
   "source": [
    "df.sample(5)"
   ]
  },
  {
   "cell_type": "markdown",
   "metadata": {},
   "source": [
    "1. What is the average age of customers in the dataset?"
   ]
  },
  {
   "cell_type": "code",
   "execution_count": 223,
   "metadata": {},
   "outputs": [
    {
     "name": "stdout",
     "output_type": "stream",
     "text": [
      "The average age of customers 44.07\n"
     ]
    }
   ],
   "source": [
    "print(\"The average age of customers\", round(df['Age'].mean(), 2))"
   ]
  },
  {
   "cell_type": "markdown",
   "metadata": {},
   "source": [
    "2. What is the average age of customers who made purchases in the summer season?"
   ]
  },
  {
   "cell_type": "code",
   "execution_count": null,
   "metadata": {},
   "outputs": [
    {
     "name": "stdout",
     "output_type": "stream",
     "text": [
      "The average age of summer customers 43.97\n"
     ]
    }
   ],
   "source": [
    "summer_customers = df.loc[df['Season'] == 'Summer']\n",
    "print(\"The average age of summer customers\", round(summer_customers['Age'].mean(), 2))"
   ]
  },
  {
   "cell_type": "markdown",
   "metadata": {},
   "source": [
    "3. What is the median purchase amount (USD)?"
   ]
  },
  {
   "cell_type": "code",
   "execution_count": null,
   "metadata": {},
   "outputs": [
    {
     "name": "stdout",
     "output_type": "stream",
     "text": [
      "60.0\n"
     ]
    }
   ],
   "source": [
    "print(df['Purchase Amount (USD)'].median())"
   ]
  },
  {
   "cell_type": "markdown",
   "metadata": {},
   "source": [
    "4. What is the maximum and minimum review rating in the dataset?"
   ]
  },
  {
   "cell_type": "code",
   "execution_count": null,
   "metadata": {},
   "outputs": [
    {
     "name": "stdout",
     "output_type": "stream",
     "text": [
      "The maximum rating: 5.0\n",
      "The minimum rating: 2.5\n"
     ]
    }
   ],
   "source": [
    "print(\"The maximum rating:\", df['Review Rating'].max())\n",
    "print(\"The minimum rating:\",df['Review Rating'].min())"
   ]
  },
  {
   "cell_type": "markdown",
   "metadata": {},
   "source": [
    "5. What is the average review rating for male customers and female customers separately?"
   ]
  },
  {
   "cell_type": "code",
   "execution_count": null,
   "metadata": {},
   "outputs": [],
   "source": [
    "male_customers = df.loc[df['Gender'] == 'Male']\n",
    "female_customers = df.loc[df['Gender'] == 'Female']"
   ]
  },
  {
   "cell_type": "code",
   "execution_count": 291,
   "metadata": {},
   "outputs": [
    {
     "name": "stdout",
     "output_type": "stream",
     "text": [
      "3.754\n",
      "3.741\n"
     ]
    }
   ],
   "source": [
    "print(round(male_customers['Review Rating'].mean(), 3))\n",
    "print(round(female_customers['Review Rating'].mean(), 3))"
   ]
  },
  {
   "cell_type": "markdown",
   "metadata": {},
   "source": [
    "6. What is the average purchase amount for customers with a subscription status of 'Yes' and \n",
    "'No'?"
   ]
  },
  {
   "cell_type": "code",
   "execution_count": null,
   "metadata": {},
   "outputs": [],
   "source": [
    "subd_customers = df.loc[df['Subscription Status'] == 'Yes']\n",
    "non_subd_customers = df.loc[df['Subscription Status'] == 'No']"
   ]
  },
  {
   "cell_type": "code",
   "execution_count": 292,
   "metadata": {},
   "outputs": [
    {
     "name": "stdout",
     "output_type": "stream",
     "text": [
      "The average purchase amount for subscribed customers: 59.49\n",
      "The average purchase amount for non-subscribed customers: 59.87\n"
     ]
    }
   ],
   "source": [
    "print(\"The average purchase amount for subscribed customers:\", round(subd_customers['Purchase Amount (USD)'].mean(), 2))\n",
    "print(\"The average purchase amount for non-subscribed customers:\", round(non_subd_customers['Purchase Amount (USD)'].mean(), 2))"
   ]
  },
  {
   "cell_type": "markdown",
   "metadata": {},
   "source": [
    "7. What is the most common shipping type for customers with a review rating above 4?"
   ]
  },
  {
   "cell_type": "code",
   "execution_count": null,
   "metadata": {},
   "outputs": [
    {
     "name": "stdout",
     "output_type": "stream",
     "text": [
      "Shipping type of customers with high review rating: Standard\n"
     ]
    }
   ],
   "source": [
    "top_rated_customers = df.loc[df['Review Rating'] > 4]\n",
    "print(\"Shipping type of customers with high review rating:\", top_rated_customers['Shipping Type'].mode()[0])"
   ]
  },
  {
   "cell_type": "markdown",
   "metadata": {},
   "source": [
    "8. How many customers have made more than 30 previous purchases?"
   ]
  },
  {
   "cell_type": "code",
   "execution_count": null,
   "metadata": {},
   "outputs": [
    {
     "data": {
      "text/plain": [
       "1549"
      ]
     },
     "execution_count": 232,
     "metadata": {},
     "output_type": "execute_result"
    }
   ],
   "source": [
    "above30_pur = df.loc[df['Previous Purchases'] > 30]\n",
    "above30_pur.shape[0]"
   ]
  },
  {
   "cell_type": "markdown",
   "metadata": {},
   "source": [
    "9. What is the average purchase amount for customers who have made more than 30 previous \n",
    "purchases?"
   ]
  },
  {
   "cell_type": "code",
   "execution_count": 293,
   "metadata": {},
   "outputs": [
    {
     "name": "stdout",
     "output_type": "stream",
     "text": [
      "60.03\n"
     ]
    }
   ],
   "source": [
    "print(round(above30_pur['Purchase Amount (USD)'].mean(), 2))"
   ]
  },
  {
   "cell_type": "markdown",
   "metadata": {},
   "source": [
    "# Purchase Analysis Questions"
   ]
  },
  {
   "cell_type": "markdown",
   "metadata": {},
   "source": [
    "1. What is the most common item purchased?"
   ]
  },
  {
   "cell_type": "code",
   "execution_count": null,
   "metadata": {},
   "outputs": [
    {
     "data": {
      "text/plain": [
       "0     Blouse\n",
       "1    Jewelry\n",
       "2      Pants\n",
       "Name: Item Purchased, dtype: object"
      ]
     },
     "execution_count": 234,
     "metadata": {},
     "output_type": "execute_result"
    }
   ],
   "source": [
    "df['Item Purchased'].mode()"
   ]
  },
  {
   "cell_type": "markdown",
   "metadata": {},
   "source": [
    "2. What is the most common payment method for customers who purchased items in the Fall \n",
    "season?"
   ]
  },
  {
   "cell_type": "code",
   "execution_count": null,
   "metadata": {},
   "outputs": [
    {
     "data": {
      "text/plain": [
       "'Cash'"
      ]
     },
     "execution_count": 235,
     "metadata": {},
     "output_type": "execute_result"
    }
   ],
   "source": [
    "fall_customers = df.loc[df['Season'] == 'Fall']\n",
    "fall_customers['Payment Method'].mode()[0]"
   ]
  },
  {
   "cell_type": "markdown",
   "metadata": {},
   "source": [
    "3. What is the most common payment method used by customers?"
   ]
  },
  {
   "cell_type": "code",
   "execution_count": null,
   "metadata": {},
   "outputs": [
    {
     "data": {
      "text/plain": [
       "'PayPal'"
      ]
     },
     "execution_count": 236,
     "metadata": {},
     "output_type": "execute_result"
    }
   ],
   "source": [
    "df['Payment Method'].mode()[0]"
   ]
  },
  {
   "cell_type": "markdown",
   "metadata": {},
   "source": [
    "4. What is the most common location for customers who purchased socks with a discount \n",
    "applied?"
   ]
  },
  {
   "cell_type": "code",
   "execution_count": null,
   "metadata": {},
   "outputs": [
    {
     "data": {
      "text/plain": [
       "0       Georgia\n",
       "1        Nevada\n",
       "2    Washington\n",
       "Name: Location, dtype: object"
      ]
     },
     "execution_count": 237,
     "metadata": {},
     "output_type": "execute_result"
    }
   ],
   "source": [
    "discount_customers = df[df['Discount Applied'] == 'Yes']\n",
    "discount_customers[discount_customers['Item Purchased' ]== 'Socks']['Location'].mode()"
   ]
  },
  {
   "cell_type": "markdown",
   "metadata": {},
   "source": [
    "5. What is the most common season for purchases?"
   ]
  },
  {
   "cell_type": "code",
   "execution_count": null,
   "metadata": {},
   "outputs": [
    {
     "data": {
      "text/plain": [
       "'Spring'"
      ]
     },
     "execution_count": 238,
     "metadata": {},
     "output_type": "execute_result"
    }
   ],
   "source": [
    "df['Season'].mode()[0]"
   ]
  },
  {
   "cell_type": "markdown",
   "metadata": {},
   "source": [
    "6. What is the total purchase amount for each category?"
   ]
  },
  {
   "cell_type": "code",
   "execution_count": null,
   "metadata": {},
   "outputs": [
    {
     "data": {
      "text/plain": [
       "Category\n",
       "Clothing       1737\n",
       "Accessories    1240\n",
       "Footwear        599\n",
       "Outerwear       324\n",
       "Name: count, dtype: int64"
      ]
     },
     "execution_count": 239,
     "metadata": {},
     "output_type": "execute_result"
    }
   ],
   "source": [
    "df['Category'].value_counts()"
   ]
  },
  {
   "cell_type": "markdown",
   "metadata": {},
   "source": [
    "7. How many customers have opted for the Subscription?"
   ]
  },
  {
   "cell_type": "code",
   "execution_count": null,
   "metadata": {},
   "outputs": [
    {
     "data": {
      "text/plain": [
       "1053"
      ]
     },
     "execution_count": 240,
     "metadata": {},
     "output_type": "execute_result"
    }
   ],
   "source": [
    "df[df['Subscription Status'] == 'Yes'].shape[0]"
   ]
  },
  {
   "cell_type": "markdown",
   "metadata": {},
   "source": [
    "8. What is the total purchase amount for each gender?"
   ]
  },
  {
   "cell_type": "code",
   "execution_count": 298,
   "metadata": {},
   "outputs": [
    {
     "data": {
      "text/plain": [
       "Gender\n",
       "Female     75191\n",
       "Male      157890\n",
       "Name: Purchase Amount (USD), dtype: int64"
      ]
     },
     "execution_count": 298,
     "metadata": {},
     "output_type": "execute_result"
    }
   ],
   "source": [
    "grp = df.groupby('Gender')['Purchase Amount (USD)'].sum()\n",
    "grp"
   ]
  },
  {
   "cell_type": "markdown",
   "metadata": {},
   "source": [
    "9. How many customers used a promo code for their purchase?"
   ]
  },
  {
   "cell_type": "code",
   "execution_count": null,
   "metadata": {},
   "outputs": [
    {
     "data": {
      "text/plain": [
       "Promo Code Used\n",
       "No     2223\n",
       "Yes    1677\n",
       "Name: count, dtype: int64"
      ]
     },
     "execution_count": 242,
     "metadata": {},
     "output_type": "execute_result"
    }
   ],
   "source": [
    "df['Promo Code Used'].value_counts()"
   ]
  },
  {
   "cell_type": "markdown",
   "metadata": {},
   "source": [
    "10. What is the total purchase amount for customers with a 'Free Shipping' shipping type?"
   ]
  },
  {
   "cell_type": "code",
   "execution_count": null,
   "metadata": {},
   "outputs": [
    {
     "name": "stdout",
     "output_type": "stream",
     "text": [
      "40777\n"
     ]
    }
   ],
   "source": [
    "print(df.loc[df['Shipping Type'] == 'Free Shipping']['Purchase Amount (USD)'].sum())"
   ]
  },
  {
   "cell_type": "markdown",
   "metadata": {},
   "source": [
    "11. What is the average purchase amount for customers who used a discount?"
   ]
  },
  {
   "cell_type": "code",
   "execution_count": 294,
   "metadata": {},
   "outputs": [
    {
     "name": "stdout",
     "output_type": "stream",
     "text": [
      "59.279\n"
     ]
    }
   ],
   "source": [
    "print(df[df['Discount Applied'] == 'Yes']['Purchase Amount (USD)'].mean().round(3))"
   ]
  },
  {
   "cell_type": "markdown",
   "metadata": {},
   "source": [
    "# Demographic and Category Analysis Questions"
   ]
  },
  {
   "cell_type": "markdown",
   "metadata": {},
   "source": [
    "1. What is the most common category of items purchased by female customers with a review \n",
    "rating below 3?"
   ]
  },
  {
   "cell_type": "code",
   "execution_count": null,
   "metadata": {},
   "outputs": [
    {
     "data": {
      "text/plain": [
       "0    Pants\n",
       "1    Shirt\n",
       "Name: Item Purchased, dtype: object"
      ]
     },
     "execution_count": 245,
     "metadata": {},
     "output_type": "execute_result"
    }
   ],
   "source": [
    "female_customers[df['Review Rating'] < 3]['Item Purchased'].mode()"
   ]
  },
  {
   "cell_type": "markdown",
   "metadata": {},
   "source": [
    "2. What is the average age of customers who made purchases with a review rating above 4 and \n",
    "used a promo code?"
   ]
  },
  {
   "cell_type": "code",
   "execution_count": 295,
   "metadata": {},
   "outputs": [
    {
     "name": "stdout",
     "output_type": "stream",
     "text": [
      "43.535\n"
     ]
    }
   ],
   "source": [
    "print(df[df['Review Rating'] > 4]['Age'].mean().round(3))"
   ]
  },
  {
   "cell_type": "markdown",
   "metadata": {},
   "source": [
    "3. What is the total purchase amount for customers in each location?"
   ]
  },
  {
   "cell_type": "code",
   "execution_count": null,
   "metadata": {},
   "outputs": [
    {
     "data": {
      "text/plain": [
       "Location\n",
       "Wisconsin         4196\n",
       "Arkansas          4828\n",
       "Alaska            4867\n",
       "New Mexico        5014\n",
       "South Carolina    4439\n",
       "Louisiana         4848\n",
       "Ohio              4649\n",
       "Texas             4712\n",
       "Connecticut       4226\n",
       "Hawaii            3752\n",
       "South Dakota      4236\n",
       "Minnesota         4977\n",
       "Rhode Island      3871\n",
       "Nevada            5514\n",
       "Michigan          4533\n",
       "Colorado          4222\n",
       "Utah              4443\n",
       "Vermont           4860\n",
       "Mississippi       4883\n",
       "Maine             4388\n",
       "Name: Purchase Amount (USD), dtype: int64"
      ]
     },
     "execution_count": 286,
     "metadata": {},
     "output_type": "execute_result"
    }
   ],
   "source": [
    "grp = df.groupby('Location')['Purchase Amount (USD)'].sum()\n",
    "grp.sample(20)"
   ]
  },
  {
   "cell_type": "markdown",
   "metadata": {},
   "source": [
    "4. What is the average purchase amount for customers who have a subscription and used \n",
    "Venmo as the payment method?"
   ]
  },
  {
   "cell_type": "code",
   "execution_count": null,
   "metadata": {},
   "outputs": [
    {
     "data": {
      "text/plain": [
       "174"
      ]
     },
     "execution_count": 248,
     "metadata": {},
     "output_type": "execute_result"
    }
   ],
   "source": [
    "df[(df['Payment Method'] == 'Venmo') & (df['Subscription Status'] == 'Yes')].shape[0]"
   ]
  },
  {
   "cell_type": "markdown",
   "metadata": {},
   "source": [
    "5. What is the average purchase amount for each color of items? "
   ]
  },
  {
   "cell_type": "code",
   "execution_count": 281,
   "metadata": {},
   "outputs": [
    {
     "data": {
      "text/plain": [
       "Color\n",
       "Beige        60.415\n",
       "Black        58.401\n",
       "Blue         56.954\n",
       "Brown        59.064\n",
       "Charcoal     60.634\n",
       "Cyan         61.892\n",
       "Gold         61.007\n",
       "Gray         62.491\n",
       "Green        65.704\n",
       "Indigo       56.252\n",
       "Lavender     59.129\n",
       "Magenta      57.132\n",
       "Maroon       59.525\n",
       "Olive        58.147\n",
       "Orange       60.890\n",
       "Peach        59.188\n",
       "Pink         60.588\n",
       "Purple       60.013\n",
       "Red          59.318\n",
       "Silver       56.832\n",
       "Teal         60.808\n",
       "Turquoise    55.614\n",
       "Violet       61.717\n",
       "White        62.641\n",
       "Yellow       59.241\n",
       "Name: Purchase Amount (USD), dtype: float64"
      ]
     },
     "execution_count": 281,
     "metadata": {},
     "output_type": "execute_result"
    }
   ],
   "source": [
    "grp = df.groupby('Color')['Purchase Amount (USD)'].mean().round(3)\n",
    "grp"
   ]
  },
  {
   "cell_type": "markdown",
   "metadata": {},
   "source": [
    "6. What is the average age of customers who purchased accessories with a discount applied?"
   ]
  },
  {
   "cell_type": "code",
   "execution_count": null,
   "metadata": {},
   "outputs": [
    {
     "name": "stdout",
     "output_type": "stream",
     "text": [
      "44.145\n"
     ]
    }
   ],
   "source": [
    "print(round(df.loc[df['Discount Applied'] == 'Yes']['Age'].mean(), 3))"
   ]
  },
  {
   "cell_type": "markdown",
   "metadata": {},
   "source": [
    "7. What is the total purchase amount for each size of clothing items (XL, L, M, S)?"
   ]
  },
  {
   "cell_type": "code",
   "execution_count": null,
   "metadata": {},
   "outputs": [
    {
     "data": {
      "text/plain": [
       "Size\n",
       "L      61667\n",
       "M     105167\n",
       "S      40468\n",
       "XL     25779\n",
       "Name: Purchase Amount (USD), dtype: int64"
      ]
     },
     "execution_count": 251,
     "metadata": {},
     "output_type": "execute_result"
    }
   ],
   "source": [
    "grp = df.groupby('Size')['Purchase Amount (USD)'].sum()\n",
    "grp"
   ]
  },
  {
   "cell_type": "markdown",
   "metadata": {},
   "source": [
    "8. What is the total purchase amount for customers who have made more than 40 previous \n",
    "purchases?"
   ]
  },
  {
   "cell_type": "code",
   "execution_count": null,
   "metadata": {},
   "outputs": [
    {
     "name": "stdout",
     "output_type": "stream",
     "text": [
      "46590\n"
     ]
    }
   ],
   "source": [
    "print(df[df['Previous Purchases'] > 40]['Purchase Amount (USD)'].sum())"
   ]
  },
  {
   "cell_type": "markdown",
   "metadata": {},
   "source": [
    "# Complex Analysis Quesitons"
   ]
  },
  {
   "cell_type": "markdown",
   "metadata": {},
   "source": [
    "1. What is the average purchase amount for customers who have a subscription and used \n",
    "Venmo as the payment method, but did not use a promo code?"
   ]
  },
  {
   "cell_type": "code",
   "execution_count": 278,
   "metadata": {},
   "outputs": [
    {
     "data": {
      "text/plain": [
       "Series([], Name: Purchase Amount (USD), dtype: int64)"
      ]
     },
     "execution_count": 278,
     "metadata": {},
     "output_type": "execute_result"
    }
   ],
   "source": [
    "#1\n",
    "df[(df['Subscription Status'] == 'Yes') & (df['Payment Method'] == 'Venmo') & (df['Promo Code Used'] == 'No')]['Purchase Amount (USD)']"
   ]
  },
  {
   "cell_type": "markdown",
   "metadata": {},
   "source": [
    "2. What is the most common item purchased by customers in Louisiana with a review rating of \n",
    "4 or higher?"
   ]
  },
  {
   "cell_type": "code",
   "execution_count": null,
   "metadata": {},
   "outputs": [
    {
     "data": {
      "text/plain": [
       "'Sweater'"
      ]
     },
     "execution_count": 262,
     "metadata": {},
     "output_type": "execute_result"
    }
   ],
   "source": [
    "df[(df['Location'] == 'Louisiana') & (df['Review Rating'] >= 4)]['Item Purchased'].mode()[0]"
   ]
  },
  {
   "cell_type": "markdown",
   "metadata": {},
   "source": [
    "3. What is the total purchase amount for customers who made purchases in the Fall season \n",
    "and used a credit card as the payment method? "
   ]
  },
  {
   "cell_type": "code",
   "execution_count": null,
   "metadata": {},
   "outputs": [
    {
     "name": "stdout",
     "output_type": "stream",
     "text": [
      "9905\n"
     ]
    }
   ],
   "source": [
    "print(df[(df['Payment Method'] == 'Credit Card') & (df['Season'] == 'Fall')]['Purchase Amount (USD)'].sum())"
   ]
  },
  {
   "cell_type": "markdown",
   "metadata": {},
   "source": [
    "4. What is the most common category of items purchased by male customers in the Winter \n",
    "season with a review rating below 3?"
   ]
  },
  {
   "cell_type": "code",
   "execution_count": null,
   "metadata": {},
   "outputs": [
    {
     "data": {
      "text/plain": [
       "'Clothing'"
      ]
     },
     "execution_count": 266,
     "metadata": {},
     "output_type": "execute_result"
    }
   ],
   "source": [
    "df[(df['Gender'] == 'Male') & (df['Season'] == 'Winter') & (df['Review Rating'] < 3)]['Category'].mode()[0]"
   ]
  },
  {
   "cell_type": "markdown",
   "metadata": {},
   "source": [
    "5. How many customers have a subscription status of 'Yes' and used a promo code for their \n",
    "purchase?"
   ]
  },
  {
   "cell_type": "code",
   "execution_count": 276,
   "metadata": {},
   "outputs": [
    {
     "name": "stdout",
     "output_type": "stream",
     "text": [
      "1053\n"
     ]
    }
   ],
   "source": [
    "print(df[(df['Subscription Status'] == 'Yes') & (df['Promo Code Used'] == 'Yes')].shape[0])"
   ]
  },
  {
   "cell_type": "markdown",
   "metadata": {},
   "source": [
    "6. What is the correlation between a customer's age and their total previous purchases?"
   ]
  },
  {
   "cell_type": "code",
   "execution_count": null,
   "metadata": {},
   "outputs": [
    {
     "name": "stdout",
     "output_type": "stream",
     "text": [
      "The correlation between the age and the total previous purchases: 0.04\n"
     ]
    }
   ],
   "source": [
    "print(\"The correlation between the age and the total previous purchases:\", round(df['Age'].corr(df['Previous Purchases']),2))"
   ]
  }
 ],
 "metadata": {
  "kernelspec": {
   "display_name": "Python 3",
   "language": "python",
   "name": "python3"
  },
  "language_info": {
   "codemirror_mode": {
    "name": "ipython",
    "version": 3
   },
   "file_extension": ".py",
   "mimetype": "text/x-python",
   "name": "python",
   "nbconvert_exporter": "python",
   "pygments_lexer": "ipython3",
   "version": "3.11.9"
  }
 },
 "nbformat": 4,
 "nbformat_minor": 2
}
