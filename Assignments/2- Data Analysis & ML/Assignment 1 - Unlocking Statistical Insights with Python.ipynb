{
 "cells": [
  {
   "cell_type": "markdown",
   "metadata": {},
   "source": [
    "# Assignment 1:  Unlocking Statistical Insights with Python\n",
    "---\n",
    "\n",
    "Welcome to Assignment 1! In this assignment, you'll dive into the world of statistical analysis using Python.  We'll move beyond theoretical concepts and focus on practical application. You'll learn how to calculate key statistical measures and use them for real-world tasks like outlier detection.\n",
    "\n",
    "This assignment will guide you through:\n",
    "\n",
    "* **Revise the concepts and equations:**  You'll implement code from scratch to compute essential statistics like mean, median, mode, variance, standard deviation, range, and interquartile range (IQR).\n",
    "* **Calculating Basic Statistics:**  You'll implement functions (and use powerful libraries like NumPy and SciPy) to compute essential statistics like mean, median, mode, variance, standard deviation, range, and interquartile range (IQR).\n",
    "* **Outlier Detection:** You'll apply the Interquartile Range (IQR) method to identify and filter outliers from datasets, a crucial step in data cleaning and analysis.\n",
    "\n",
    "By the end of this assignment, you'll have a strong foundation in performing statistical calculations in Python and applying these techniques to understand and refine data.\n",
    "\n",
    "#### General Instructions \n",
    "\n",
    "Please adhere to the following guidelines:\n",
    "\n",
    "- **Code Clarity:** Your code should be well-formatted, easy to understand, and include meaningful variable names.\n",
    "- **Docstrings:**  Use docstrings to document your functions and explain their purpose, arguments, and return values.\n",
    "- **Testing:**  Use the same given data example of your code to demonstrate its functionality.\n",
    "- **NOTE:** Answer in the same notebook with the given examples.\n"
   ]
  },
  {
   "cell_type": "markdown",
   "metadata": {},
   "source": [
    "---\n",
    "\n",
    "## 2.  Q1- Basic Statistics Calculator\n",
    "\n",
    "**Objective:** Create a Python program that calculates basic statistics (mean, median, mode, range, variance, and standard deviation) for a set of numbers entered by the user.\n",
    "\n",
    "**Requirements:**\n",
    "Follow the TODOs below to complete each statistical calculation.\n"
   ]
  },
  {
   "cell_type": "code",
   "execution_count": 1,
   "metadata": {},
   "outputs": [],
   "source": [
    "import numpy as np"
   ]
  },
  {
   "cell_type": "code",
   "execution_count": 2,
   "metadata": {},
   "outputs": [],
   "source": [
    "# Initialize an empty list to store numbers\n",
    "temperatures = [23, 25, 20, 23, -5, 21, 18, 19, 24, 21, 19, 24, 0, \n",
    "                20, 24, 55, 22, 50, 22, 20, 21, 22, 20, 25, 19, \n",
    "                22, 26, 23, 21, 23, 17, 20]\n",
    "\n"
   ]
  },
  {
   "cell_type": "markdown",
   "metadata": {},
   "source": [
    "### Mean"
   ]
  },
  {
   "cell_type": "markdown",
   "metadata": {},
   "source": [
    "The mean = The sum of the elements / The count of the elements"
   ]
  },
  {
   "cell_type": "code",
   "execution_count": 3,
   "metadata": {},
   "outputs": [],
   "source": [
    "# --- Mean Calculation ---\n",
    "# TODO: Calculate the mean of the numbers in the 'temperatures' list.\n",
    "#       Handle the case where the list is empty (return None or print a message).\n",
    "#       Print the mean using an f-string.\n",
    "# Your code here:\n",
    "def calc_mean(list1):\n",
    "    x = 0\n",
    "    if len(list1) != 0:\n",
    "        for i in list1:\n",
    "            x = x + i\n",
    "        return f\"The mean of the input is {x/len(list1)}\"\n",
    "        \n",
    "    else:\n",
    "        return \"The list is empty.\""
   ]
  },
  {
   "cell_type": "code",
   "execution_count": 4,
   "metadata": {},
   "outputs": [
    {
     "name": "stdout",
     "output_type": "stream",
     "text": [
      "The mean of the input is 22.0 \n",
      "\n",
      "The list is empty.\n"
     ]
    }
   ],
   "source": [
    "print(calc_mean(temperatures),\"\\n\")\n",
    "empty_list = []\n",
    "print(calc_mean(empty_list))"
   ]
  },
  {
   "cell_type": "markdown",
   "metadata": {},
   "source": [
    "### Median"
   ]
  },
  {
   "cell_type": "markdown",
   "metadata": {},
   "source": [
    "If the number of observations is odd, the number in the middle of the list is the median. This can be found by taking the value of the (n+1)/2 -th term, where n is the number of observations.\n",
    "\n",
    "Else, if the number of observations is even, then the median is the simple average of the middle two numbers. In calculation, the median is the simple average of the n/2 -th and the (n/2 + 1) -th terms."
   ]
  },
  {
   "cell_type": "code",
   "execution_count": 5,
   "metadata": {},
   "outputs": [],
   "source": [
    "temperatures_even = sorted([23, 25, 20, 23, -5, 21, 18, 19, 24, 21, 19, 24, 0, \n",
    "                    20, 24, 55, 22, 50, 22, 20, 21, 22, 20, 25, 19, \n",
    "                    22, 26, 23, 21, 23, 17, 20])\n",
    "temperatures_odd = sorted([23, 25, 20, 23, -5, 21, 18, 19, 24, 21, 19, 24, 0, \n",
    "                    20, 24, 55, 22, 50, 22, 20, 21, 22, 20, 25, 19, \n",
    "                    22, 26, 23, 21, 23, 17, 20 , 15])"
   ]
  },
  {
   "cell_type": "code",
   "execution_count": 6,
   "metadata": {},
   "outputs": [
    {
     "name": "stdout",
     "output_type": "stream",
     "text": [
      "The two values in the middle:  22 21\n"
     ]
    }
   ],
   "source": [
    "first = int(len(temperatures_even) / 2)\n",
    "second = int(len(temperatures_even) / 2) - 1\n",
    "print(\"The two values in the middle: \",temperatures_even[first], temperatures_even[second])\n"
   ]
  },
  {
   "cell_type": "code",
   "execution_count": 7,
   "metadata": {},
   "outputs": [],
   "source": [
    "# --- Median Calculation ---\n",
    "# TODO: Calculate the median of the numbers in the 'temperatures' list.\n",
    "#       Sort the 'numbers' list first.\n",
    "#       Handle both even and odd length lists.\n",
    "#       Print the median using an f-string.\n",
    "# Your code here:\n",
    "\n",
    "\n",
    "def calc_median(list1):\n",
    "    first = int(len(list1) / 2) - 1 # because index starts at zero\n",
    "    second = int(len(list1) / 2)\n",
    "\n",
    "    if (len(list1) % 2) == 0: #even number of observations\n",
    "        med = (list1[first] + list1[second]) / 2\n",
    "        return f\"{med}\"\n",
    "    \n",
    "    else:\n",
    "        med = list1[first]\n",
    "        return f\"{med}\"\n",
    "\n",
    "\n"
   ]
  },
  {
   "cell_type": "code",
   "execution_count": 8,
   "metadata": {},
   "outputs": [
    {
     "name": "stdout",
     "output_type": "stream",
     "text": [
      "The median with an even list: 21.5\n",
      "The median with an odd list: 21\n"
     ]
    }
   ],
   "source": [
    "print(\"The median with an even list:\",calc_median(temperatures_even))\n",
    "print(\"The median with an odd list:\",calc_median(temperatures_odd))"
   ]
  },
  {
   "cell_type": "markdown",
   "metadata": {},
   "source": [
    "### Mode"
   ]
  },
  {
   "cell_type": "code",
   "execution_count": 9,
   "metadata": {},
   "outputs": [
    {
     "data": {
      "text/plain": [
       "'The mode is: 20'"
      ]
     },
     "execution_count": 9,
     "metadata": {},
     "output_type": "execute_result"
    }
   ],
   "source": [
    "# --- Mode Calculation (Simple) ---\n",
    "# TODO: Calculate the mode (most frequent number) in the 'temperatures' list.\n",
    "#       If there are multiple modes, you can return any one of them.\n",
    "#       If there is no mode (all numbers appear once), you can return None or print a message.\n",
    "#       Print the mode using an f-string.\n",
    "# Your code here:\n",
    "\n",
    "\n",
    "def calc_mode(list1):\n",
    "    occ_dict = dict()\n",
    "    for i in list1:\n",
    "        if i not in occ_dict:\n",
    "            occ_dict[i] = 1\n",
    "        else:\n",
    "            occ_dict[i] += 1\n",
    "    \n",
    "\n",
    "    # Sort based on reverse of Values\n",
    "    val_based_rev = {k: v for k, v in sorted(occ_dict.items(), key=lambda item: item[1], reverse=True)}\n",
    "    return f\"The mode is: {list(val_based_rev.keys())[0]}\"\n",
    "\n",
    "calc_mode(temperatures)"
   ]
  },
  {
   "cell_type": "markdown",
   "metadata": {},
   "source": [
    "### Variance"
   ]
  },
  {
   "cell_type": "code",
   "execution_count": 10,
   "metadata": {},
   "outputs": [
    {
     "data": {
      "text/plain": [
       "104.12903225806453"
      ]
     },
     "execution_count": 10,
     "metadata": {},
     "output_type": "execute_result"
    }
   ],
   "source": [
    "# --- Variance Calculation ---\n",
    "# TODO: Calculate the variance of the numbers in the 'temperatures' list.\n",
    "#       Use the formula for sample variance (divide by n-1 for sample, n for population).\n",
    "#       For this exercise, assume it's sample variance if list has more than 1 element, else return 0 if list has 0 or 1 element.\n",
    "#       Print the variance using an f-string.\n",
    "# Your code here:\n",
    "def calc_mean(list1):\n",
    "    x = 0\n",
    "    if len(list1) != 0:\n",
    "        for i in list1:\n",
    "            x = x + i\n",
    "        return x/len(list1)\n",
    "        \n",
    "    else:\n",
    "        return \"The list is empty.\"\n",
    "\n",
    "def calc_variance(list1):\n",
    "    x = 0\n",
    "    for i in list1:\n",
    "        x = x + ((i - calc_mean(list1)) ** 2) / (len(list1) - 1)\n",
    "    return x\n",
    "\n",
    "calc_variance(temperatures)\n"
   ]
  },
  {
   "cell_type": "markdown",
   "metadata": {},
   "source": [
    "### Standard Deviation"
   ]
  },
  {
   "cell_type": "code",
   "execution_count": 11,
   "metadata": {},
   "outputs": [
    {
     "data": {
      "text/plain": [
       "10.204363393081634"
      ]
     },
     "execution_count": 11,
     "metadata": {},
     "output_type": "execute_result"
    }
   ],
   "source": [
    "# --- Standard Deviation Calculation ---\n",
    "# TODO: Calculate the standard deviation of the numbers in the 'temperatures' list.\n",
    "#       Take the square root of the variance calculated above.\n",
    "#       Print the standard deviation using an f-string.\n",
    "# Your code here:\n",
    "\n",
    "def calc_std(list1):\n",
    "    return calc_variance(list1) ** 0.5 #Square root\n",
    "\n",
    "calc_std(temperatures)"
   ]
  },
  {
   "cell_type": "markdown",
   "metadata": {},
   "source": [
    "### Range"
   ]
  },
  {
   "cell_type": "code",
   "execution_count": 12,
   "metadata": {},
   "outputs": [
    {
     "data": {
      "text/plain": [
       "60"
      ]
     },
     "execution_count": 12,
     "metadata": {},
     "output_type": "execute_result"
    }
   ],
   "source": [
    "# --- Range Calculation ---\n",
    "# TODO: Calculate the range (difference between max and min) of the 'temperatures' list.\n",
    "#       Print the range using an f-string.\n",
    "# Your code here:\n",
    "\n",
    "def calc_range(list1):\n",
    "    sorted_list = sorted(list1)\n",
    "    return sorted_list[-1] - sorted_list[0]\n",
    "\n",
    "calc_range(temperatures)"
   ]
  },
  {
   "cell_type": "markdown",
   "metadata": {},
   "source": [
    "### IQR"
   ]
  },
  {
   "cell_type": "code",
   "execution_count": 13,
   "metadata": {},
   "outputs": [
    {
     "data": {
      "text/plain": [
       "'3.0'"
      ]
     },
     "execution_count": 13,
     "metadata": {},
     "output_type": "execute_result"
    }
   ],
   "source": [
    "# --- IQR Calculation ---\n",
    "# TODO: Calculate the Interquartile Range (IQR) of the 'temperatures' list.\n",
    "#       Use the percentile function you defined in Q1 or define a new one if needed.\n",
    "#       Calculate Q1 (25th percentile) and Q3 (75th percentile).\n",
    "#       IQR = Q3 - Q1\n",
    "#       Print the IQR using an f-string.\n",
    "# Your code here:\n",
    "def calc_IQR(list1):\n",
    "    # Q1 (First Quartile): The median of the first half of the dataset (excluding the median if the number of data points is odd). For [2,4,4], Q1 = 4\n",
    "    first_half = list1[0: int(len(list1) // 2)]\n",
    "\n",
    "    #Q3 (Third Quartile): The median of the second half of the dataset. For [6,8,9], Q3 = 8\n",
    "    second_half = list1[int(len(list1) // 2) + 1 :]\n",
    "\n",
    "    Q1 = float(calc_median(first_half)) #Since the function returns an fstring\n",
    "    Q3 = float(calc_median(second_half)) \n",
    "\n",
    "    IQR = Q3 - Q1\n",
    "    return f'{IQR}'\n",
    "\n",
    "calc_IQR(temperatures_even)"
   ]
  },
  {
   "cell_type": "markdown",
   "metadata": {},
   "source": [
    "### Skewness"
   ]
  },
  {
   "cell_type": "code",
   "execution_count": 14,
   "metadata": {},
   "outputs": [
    {
     "data": {
      "text/plain": [
       "'Negative skewness: Data is skewed left (long tail on the left)'"
      ]
     },
     "execution_count": 14,
     "metadata": {},
     "output_type": "execute_result"
    }
   ],
   "source": [
    "# --- Skewness Calculation ---\n",
    "# TODO: (Optional) Calculate the skewness of the 'temperatures' list.\n",
    "#       You can use a simple method for skewness calculation.\n",
    "#       Print the skewness using an f-string.\n",
    "# Your code here:\n",
    "\n",
    "def calc_skewness(list1):\n",
    "    if calc_mean(list1) > float(calc_median(list1)):\n",
    "        return f'Positive skewness: Data is skewed right (long tail on the right)'\n",
    "    elif calc_mean(list1) < float(calc_median(list1)):\n",
    "        return f'Negative skewness: Data is skewed left (long tail on the left)'\n",
    "    else:\n",
    "        return f'Zero skewness, Data is symmetrical'\n",
    "    \n",
    "calc_skewness(temperatures)"
   ]
  },
  {
   "cell_type": "markdown",
   "metadata": {},
   "source": [
    "### Kurtosis"
   ]
  },
  {
   "cell_type": "code",
   "execution_count": 15,
   "metadata": {},
   "outputs": [
    {
     "data": {
      "text/plain": [
       "\"Kurtosis is equal to : 4.89, which means that it's flat and wide\""
      ]
     },
     "execution_count": 15,
     "metadata": {},
     "output_type": "execute_result"
    }
   ],
   "source": [
    "# --- Kurtosis Calculation ---\n",
    "# TODO: Calculate the skewness of the 'temperatures' list.\n",
    "#       You can use a simple method for skewness calculation.\n",
    "#       Print the skewness using an f-string.\n",
    "# Your code here:\n",
    "from scipy.stats import norm, kurtosis\n",
    "\n",
    "f'Kurtosis is equal to {kurtosis(temperatures)}'\n",
    "\n",
    "def calc_kurtosis(list1):\n",
    "    k = kurtosis(list1)\n",
    "    if k > 0:\n",
    "        return f\"Kurtosis is equal to : {round(k, 2)}, which means that it's flat and wide\"\n",
    "    elif k < 0:\n",
    "        return f\"Kurtosis is equal to : {round(k, 2)}, which means that it's sharp and tall\"\n",
    "    else:\n",
    "        return f\"Kurtosis is equal to : {round(k, 2)}, which means that it's normal\"\n",
    "\n",
    "calc_kurtosis(temperatures)"
   ]
  },
  {
   "cell_type": "markdown",
   "metadata": {},
   "source": [
    "---\n",
    "## Q2 - Repeat Q1 with Numpy \n",
    "**Objective:** Use numpy to calculate basic statistics (mean, median, mode, range, variance, and standard deviation) for a set of given numbers."
   ]
  },
  {
   "cell_type": "markdown",
   "metadata": {},
   "source": [
    "---\n",
    "## Q2. Filtering Outliers\n",
    "\n",
    "\n",
    "The basic approach is to identify potential outliers based on a defined threshold. A common method is to use the **Interquartile Range (IQR)**. Here's how it works:\n",
    "\n",
    "1. Use python liberaries (don't hard-code the equations) to calculate basic statistics (mean, median, mode, range, variance, standard deviation, and IQR) for a set of given numbers.\n",
    "\n",
    "2. **Define Outlier Boundaries:**\n",
    "   - Lower Boundary: Q1 - 1.5 * IQR\n",
    "   - Upper Boundary: Q3 + 1.5 * IQR\n",
    "\n",
    "3. **Filter the List:**\n",
    "   - Remove any values that fall outside the calculated boundaries."
   ]
  },
  {
   "cell_type": "code",
   "execution_count": 16,
   "metadata": {},
   "outputs": [],
   "source": [
    "import numpy as np\n",
    "from scipy import stats # Import scipy.stats for mode and skewness if needed\n",
    "\n",
    "# Given set of numbers\n",
    "temperatures = np.array([25, 32, 45, 18, 60, 55, 48, 72, 23, 25, 20, 23, -5, 21, 18, 19, 24, 21,19, 24, 0,\n",
    "                20, 24, 55, 22, 50, 22, 20, 21, 22, 20, 25, 19,\n",
    "                22, 26, 23, 21, 23, 17, 20, 18])"
   ]
  },
  {
   "cell_type": "code",
   "execution_count": 17,
   "metadata": {},
   "outputs": [
    {
     "data": {
      "text/plain": [
       "np.float64(1.7896077524028078)"
      ]
     },
     "execution_count": 17,
     "metadata": {},
     "output_type": "execute_result"
    }
   ],
   "source": [
    "# --- Mean Calculation with NumPy ---\n",
    "# TODO: Calculate the mean of the temperatures array using numpy.\n",
    "# Your code here:\n",
    "arr = np.array(temperatures)\n",
    "np.mean(arr)\n",
    "\n",
    "# --- Median Calculation with NumPy ---\n",
    "# TODO: Calculate the median of the temperatures array using numpy.\n",
    "# Your code here:\n",
    "arr1 = np.array(temperatures_even) \n",
    "arr2 = np.array(temperatures_odd)\n",
    "\n",
    "np.median(arr1)\n",
    "np.median(arr2)\n",
    "\n",
    "# --- Mode Calculation with NumPy/SciPy ---\n",
    "# TODO: Calculate the mode (most frequent number) using numpy or scipy.stats.\n",
    "#       NumPy doesn't have a direct mode function. \n",
    "# Your code here:\n",
    "from scipy import stats as st\n",
    "st.mode(arr)\n",
    "\n",
    "# --- Variance Calculation with NumPy ---\n",
    "# TODO: Calculate the variance of the temperatures array using numpy.\n",
    "# Your code here:\n",
    "np.var(temperatures)\n",
    "\n",
    "# --- Standard Deviation Calculation with NumPy ---\n",
    "# TODO: Calculate the standard deviation of the temperatures array using numpy.\n",
    "# Your code here:\n",
    "np.std(temperatures)\n",
    "\n",
    "# --- Range Calculation with NumPy ---\n",
    "# TODO: Calculate the range (difference between max and min) using numpy.\n",
    "# Your code here:\n",
    "np.max(temperatures) - np.min(temperatures)\n",
    "\n",
    "# --- IQR Calculation with NumPy ---\n",
    "# TODO: Calculate the Interquartile Range (IQR) using numpy.percentile().\n",
    "#       Calculate Q1 (25th percentile) and Q3 (75th percentile).\n",
    "#       IQR = Q3 - Q1\n",
    "# Your code here:\n",
    "np.quantile(temperatures, 0.75) - np.quantile(temperatures, 0.25)\n",
    "\n",
    "# --- Skewness Calculation with SciPy ---\n",
    "# TODO: Calculate the skewness using scipy.stats.skew().\n",
    "# Your code here:\n",
    "st.skew(temperatures)\n",
    "\n",
    "# --- Kurtosis Calculation with SciPy ---\n",
    "# TODO: Calculate the skewness using scipy.stats.skew().\n",
    "# Your code here:\n",
    "st.kurtosis(temperatures)\n"
   ]
  },
  {
   "cell_type": "code",
   "execution_count": 18,
   "metadata": {},
   "outputs": [
    {
     "name": "stdout",
     "output_type": "stream",
     "text": [
      "Q1: 20.0\n",
      "Q2: 21.0\n",
      "Q3: 23.0\n",
      "IQR: 3.0\n"
     ]
    }
   ],
   "source": [
    "# Simulated data for temperatures\n",
    "temperatures = [23, 25, 20, 23, -5, 21, 18, 19, 24, 21,19, 24, 0, \n",
    "                20, 24, 55, 22, 50, 22, 20, 21, 22, 20, 25, 19, \n",
    "                22, 26, 23, 21, 23, 17, 20, 18]\n",
    "\n",
    "# TODO: Calculate Q1 by calling the function with percentile=25 (use your previoly defined function)\n",
    "q1 = np.quantile(temperatures,0.25)\n",
    "print(\"Q1:\", q1)\n",
    "\n",
    "# TODO: Calculate Q2 by calling the function with percentile=50\n",
    "q2 = np.quantile(temperatures,0.5) \n",
    "print(\"Q2:\", q2)\n",
    "\n",
    "# TODO: Calculate Q3 by calling the function with percentile=75\n",
    "q3 = np.quantile(temperatures,0.75) \n",
    " \n",
    "print(\"Q3:\", q3)\n",
    "\n",
    "# TODO: Calculate IQR by subtracting Q1 from Q3\n",
    "iqr = q3 - q1\n",
    "print(\"IQR:\", iqr)"
   ]
  },
  {
   "cell_type": "markdown",
   "metadata": {},
   "source": [
    "**Define the lower and upper bounds for outliers**"
   ]
  },
  {
   "cell_type": "code",
   "execution_count": 19,
   "metadata": {},
   "outputs": [
    {
     "name": "stdout",
     "output_type": "stream",
     "text": [
      "Lower Bound: 15.5\n",
      "Upper Bound: 27.5\n"
     ]
    }
   ],
   "source": [
    "# TODO: Calculate lower bound using formula: Q1 - 1.5 * IQR\n",
    "lower_bound = q1 - 1.5 * iqr\n",
    "print(\"Lower Bound:\", lower_bound)\n",
    "\n",
    "# TODO: Calculate upper bound using formula: Q3 + 1.5 * IQR\n",
    "upper_bound = q3 + 1.5 * iqr\n",
    "print(\"Upper Bound:\", upper_bound)\n"
   ]
  },
  {
   "cell_type": "markdown",
   "metadata": {},
   "source": [
    "**Filter the outliers**"
   ]
  },
  {
   "cell_type": "code",
   "execution_count": 20,
   "metadata": {},
   "outputs": [],
   "source": [
    "# TODO: Create a list comprehension that only includes values between the bounds\n",
    "filtered_temperatures = [i for i in temperatures if (i < upper_bound) & (i > lower_bound)]"
   ]
  },
  {
   "cell_type": "markdown",
   "metadata": {},
   "source": [
    "**Output the results**"
   ]
  },
  {
   "cell_type": "code",
   "execution_count": 21,
   "metadata": {},
   "outputs": [
    {
     "name": "stdout",
     "output_type": "stream",
     "text": [
      "Original Temperatures: [23, 25, 20, 23, -5, 21, 18, 19, 24, 21, 19, 24, 0, 20, 24, 55, 22, 50, 22, 20, 21, 22, 20, 25, 19, 22, 26, 23, 21, 23, 17, 20, 18]\n",
      "Filtered Temperatures: [23, 25, 20, 23, 21, 18, 19, 24, 21, 19, 24, 20, 24, 22, 22, 20, 21, 22, 20, 25, 19, 22, 26, 23, 21, 23, 17, 20, 18]\n"
     ]
    }
   ],
   "source": [
    "print(\"Original Temperatures:\", temperatures)\n",
    "print(\"Filtered Temperatures:\", filtered_temperatures)"
   ]
  },
  {
   "cell_type": "markdown",
   "metadata": {},
   "source": [
    "---\n",
    "## Q3: Outlier Removal Function\n",
    "\n",
    "Take the outlier filtering steps from the previous explanation (Q2) and encapsulate them into a reusable function. This function should be designed to be easily applied to different festures for consistent outlier removal and analysis."
   ]
  },
  {
   "cell_type": "code",
   "execution_count": 22,
   "metadata": {},
   "outputs": [],
   "source": [
    "# Simulated data \n",
    "temperatures = [23, 25, 23, -5, 18, 19, 24, 21, 19, 24, 0, \n",
    "                24, 55, 50, 20, 25, 22, 26, 23, 17, 18]\n",
    "\n",
    "humidity = [60, 65, 72, 68, 75, 80, 82, 78, 62, 68, 71, \n",
    "            69, 77, 81, 79, 64, 69, 67,  74, 68, 75, 100] "
   ]
  },
  {
   "cell_type": "code",
   "execution_count": 23,
   "metadata": {},
   "outputs": [],
   "source": [
    "# TODO: Define a function to retraive only data without outliers. Use the previous percentiles function\n",
    "def clip_outliers(list1):\n",
    "    q1 = np.quantile(list1, 0.25)\n",
    "    q2 = np.quantile(list1, 0.5) \n",
    "    q3 = np.quantile(list1, 0.75) \n",
    "    \n",
    "    iqr = q3 - q1\n",
    "\n",
    "    lower_bound = q1 - 1.5 * iqr\n",
    "    upper_bound = q3 + 1.5 * iqr\n",
    "    \n",
    "    return [i for i in list1 if (i < upper_bound) & (i > lower_bound)]"
   ]
  },
  {
   "cell_type": "code",
   "execution_count": 24,
   "metadata": {},
   "outputs": [],
   "source": [
    "# TODO: Apply the defined function to retraive only data without outliers. \n",
    "\n",
    "filtered_temperatures = clip_outliers(temperatures)\n",
    "filtered_humidity = clip_outliers(humidity)"
   ]
  },
  {
   "cell_type": "markdown",
   "metadata": {},
   "source": [
    "**Output the results**"
   ]
  },
  {
   "cell_type": "code",
   "execution_count": 25,
   "metadata": {},
   "outputs": [
    {
     "name": "stdout",
     "output_type": "stream",
     "text": [
      "Original Temperatures: [-5, 0, 17, 18, 18, 19, 19, 20, 21, 22, 23, 23, 23, 24, 24, 24, 25, 25, 26, 50, 55]\n",
      "Filtered Temperatures: [23, 25, 23, 18, 19, 24, 21, 19, 24, 24, 20, 25, 22, 26, 23, 17, 18]\n",
      "==============================================================================================================\n",
      "Original Humidity: [60, 62, 64, 65, 67, 68, 68, 68, 69, 69, 71, 72, 74, 75, 75, 77, 78, 79, 80, 81, 82, 100]\n",
      "Filtered Humidity: [60, 65, 72, 68, 75, 80, 82, 78, 62, 68, 71, 69, 77, 81, 79, 64, 69, 67, 74, 68, 75]\n"
     ]
    }
   ],
   "source": [
    "print(\"Original Temperatures:\", sorted(temperatures))\n",
    "print(\"Filtered Temperatures:\", filtered_temperatures)\n",
    "print('='*110)\n",
    "print(\"Original Humidity:\", sorted(humidity))\n",
    "print(\"Filtered Humidity:\", filtered_humidity)"
   ]
  }
 ],
 "metadata": {
  "kernelspec": {
   "display_name": "Python 3",
   "language": "python",
   "name": "python3"
  },
  "language_info": {
   "codemirror_mode": {
    "name": "ipython",
    "version": 3
   },
   "file_extension": ".py",
   "mimetype": "text/x-python",
   "name": "python",
   "nbconvert_exporter": "python",
   "pygments_lexer": "ipython3",
   "version": "3.11.9"
  }
 },
 "nbformat": 4,
 "nbformat_minor": 2
}
