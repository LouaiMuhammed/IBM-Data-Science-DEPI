{
 "cells": [
  {
   "cell_type": "markdown",
   "metadata": {},
   "source": [
    "# Task 1"
   ]
  },
  {
   "cell_type": "markdown",
   "metadata": {},
   "source": [
    "## 1"
   ]
  },
  {
   "cell_type": "code",
   "execution_count": 34,
   "metadata": {},
   "outputs": [
    {
     "name": "stdout",
     "output_type": "stream",
     "text": [
      "8\n",
      "8\n",
      "8\n",
      "8.0\n"
     ]
    }
   ],
   "source": [
    "print(4+4)\n",
    "print(12-4)\n",
    "print(4*2)\n",
    "print(16/2)"
   ]
  },
  {
   "cell_type": "markdown",
   "metadata": {},
   "source": [
    "## 3 "
   ]
  },
  {
   "cell_type": "markdown",
   "metadata": {},
   "source": [
    "### 3.1\n",
    "Sending invitiations to the three guests"
   ]
  },
  {
   "cell_type": "code",
   "execution_count": 35,
   "metadata": {},
   "outputs": [
    {
     "name": "stdout",
     "output_type": "stream",
     "text": [
      "Hello guest1 I hope you accept my invitiation to dinner\n",
      "\n",
      "\n",
      "Hello guest2 I hope you accept my invitiation to dinner\n",
      "\n",
      "\n",
      "Hello guest3 I hope you accept my invitiation to dinner\n",
      "\n",
      "\n"
     ]
    }
   ],
   "source": [
    "guest_list = ['guest1', 'guest2', 'guest3']\n",
    "for i in range(len(guest_list)):\n",
    "    print('Hello', guest_list[i], 'I hope you accept my invitiation to dinner')\n",
    "    print('\\n')"
   ]
  },
  {
   "cell_type": "markdown",
   "metadata": {},
   "source": [
    "### 3.2\n",
    "Popping 'guest2' that is not going to make it and inserting a replacement."
   ]
  },
  {
   "cell_type": "code",
   "execution_count": 36,
   "metadata": {},
   "outputs": [
    {
     "name": "stdout",
     "output_type": "stream",
     "text": [
      "guest2 is not going to make it\n"
     ]
    },
    {
     "data": {
      "text/plain": [
       "['guest1', 'new_guest', 'guest3']"
      ]
     },
     "execution_count": 36,
     "metadata": {},
     "output_type": "execute_result"
    }
   ],
   "source": [
    "missing_guest = guest_list.pop(1)\n",
    "print(missing_guest, 'is not going to make it')\n",
    "guest_list.insert(1, 'new_guest')\n",
    "guest_list"
   ]
  },
  {
   "cell_type": "markdown",
   "metadata": {},
   "source": [
    "### 3.3\n",
    "After finding 3 new free spots, we add the three Lucky guests to the table."
   ]
  },
  {
   "cell_type": "code",
   "execution_count": 37,
   "metadata": {},
   "outputs": [
    {
     "name": "stdout",
     "output_type": "stream",
     "text": [
      "Bigger table was found!\n"
     ]
    },
    {
     "data": {
      "text/plain": [
       "['Lucky_guest1',\n",
       " 'guest1',\n",
       " 'Lucky_guest2',\n",
       " 'new_guest',\n",
       " 'guest3',\n",
       " 'Luck_guest3']"
      ]
     },
     "execution_count": 37,
     "metadata": {},
     "output_type": "execute_result"
    }
   ],
   "source": [
    "print(\"Bigger table was found!\")\n",
    "guest_list.insert(0,\"Lucky_guest1\")\n",
    "guest_list.insert(int(len(guest_list)/2), \"Lucky_guest2\")\n",
    "guest_list.append(\"Luck_guest3\")\n",
    "guest_list"
   ]
  },
  {
   "cell_type": "code",
   "execution_count": 38,
   "metadata": {},
   "outputs": [
    {
     "name": "stdout",
     "output_type": "stream",
     "text": [
      "Hello Lucky_guest1 I hope you accept my invitiation to dinner\n",
      "\n",
      "\n",
      "Hello guest1 I hope you accept my invitiation to dinner\n",
      "\n",
      "\n",
      "Hello Lucky_guest2 I hope you accept my invitiation to dinner\n",
      "\n",
      "\n",
      "Hello new_guest I hope you accept my invitiation to dinner\n",
      "\n",
      "\n",
      "Hello guest3 I hope you accept my invitiation to dinner\n",
      "\n",
      "\n",
      "Hello Luck_guest3 I hope you accept my invitiation to dinner\n",
      "\n",
      "\n"
     ]
    }
   ],
   "source": [
    "for i in range(len(guest_list)):\n",
    "    print('Hello', guest_list[i], 'I hope you accept my invitiation to dinner')\n",
    "    print('\\n')"
   ]
  },
  {
   "cell_type": "markdown",
   "metadata": {},
   "source": [
    "# Task 2"
   ]
  },
  {
   "cell_type": "markdown",
   "metadata": {},
   "source": [
    "### 1. Question: Merge and Sort Two Lists\n",
    "\n",
    "**Description:** Given two lists of integers, merge them into one list and sort the result in ascending order. Do not use Python's built-in sort() function or other sorting functions.\n",
    "\n",
    "\n"
   ]
  },
  {
   "cell_type": "code",
   "execution_count": null,
   "metadata": {},
   "outputs": [
    {
     "data": {
      "text/plain": [
       "'\\n# Example Input:\\nlist1 = [3, 1, 4]\\nlist2 = [2, 5, 0]\\n\\n# Example Output:\\n[0, 1, 2, 3, 4, 5]'"
      ]
     },
     "metadata": {},
     "output_type": "display_data"
    }
   ],
   "source": [
    "'''\n",
    "# Example Input:\n",
    "list1 = [3, 1, 4]\n",
    "list2 = [2, 5, 0]\n",
    "\n",
    "# Example Output:\n",
    "[0, 1, 2, 3, 4, 5]'''"
   ]
  },
  {
   "cell_type": "code",
   "execution_count": null,
   "metadata": {},
   "outputs": [],
   "source": [
    "list1 = [3, 1, 4]\n",
    "list2 = [2, 5, 0]\n",
    "list = list1 + list2"
   ]
  },
  {
   "cell_type": "markdown",
   "metadata": {},
   "source": [
    "Applying insertion sort:"
   ]
  },
  {
   "cell_type": "code",
   "execution_count": null,
   "metadata": {},
   "outputs": [
    {
     "name": "stdout",
     "output_type": "stream",
     "text": [
      "[0, 1, 2, 3, 4, 5]\n"
     ]
    }
   ],
   "source": [
    "n = len(list) \n",
    "for j in range(2, n+1): \n",
    "    key = list[j-1]\n",
    "    i = j-2\n",
    "    while i >= 0 and list[i] > key:\n",
    "        list[i+1] = list[i]\n",
    "        i -= 1\n",
    "    list[i+1] = key\n",
    "\n",
    "print(list)\n"
   ]
  },
  {
   "cell_type": "code",
   "execution_count": null,
   "metadata": {},
   "outputs": [
    {
     "data": {
      "text/plain": [
       "'\\n# Example Input:\\ns = \"abc\"\\nn = 3\\n\\n# Example Output:\\n\"aaabbbccc\"\\n\\n'"
      ]
     },
     "metadata": {},
     "output_type": "display_data"
    }
   ],
   "source": [
    "'''\n",
    "# Example Input:\n",
    "s = \"abc\"\n",
    "n = 3\n",
    "\n",
    "# Example Output:\n",
    "\"aaabbbccc\"\n",
    "\n",
    "'''"
   ]
  },
  {
   "cell_type": "code",
   "execution_count": null,
   "metadata": {},
   "outputs": [
    {
     "data": {
      "text/plain": [
       "'aaabbbccc'"
      ]
     },
     "metadata": {},
     "output_type": "display_data"
    }
   ],
   "source": [
    "str = 'abc'\n",
    "str_triple = [value*3 for value in str]\n",
    "''.join(str_triple)"
   ]
  }
 ],
 "metadata": {
  "kernelspec": {
   "display_name": "Python 3",
   "language": "python",
   "name": "python3"
  },
  "language_info": {
   "codemirror_mode": {
    "name": "ipython",
    "version": 3
   },
   "file_extension": ".py",
   "mimetype": "text/x-python",
   "name": "python",
   "nbconvert_exporter": "python",
   "pygments_lexer": "ipython3",
   "version": "3.11.9"
  }
 },
 "nbformat": 4,
 "nbformat_minor": 2
}
